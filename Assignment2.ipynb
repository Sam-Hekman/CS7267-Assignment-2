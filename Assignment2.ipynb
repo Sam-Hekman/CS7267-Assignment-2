{
 "cells": [
  {
   "cell_type": "code",
   "execution_count": 2,
   "id": "906aea20",
   "metadata": {},
   "outputs": [],
   "source": [
    "import numpy as np\n",
    "import pandas as pd\n",
    "from sklearn.preprocessing import OneHotEncoder\n",
    "from sklearn.preprocessing import StandardScaler\n",
    "from sklearn.pipeline import Pipeline\n",
    "from sklearn.compose import ColumnTransformer\n",
    "from sklearn.impute import SimpleImputer\n",
    "from sklearn.model_selection import cross_val_predict\n",
    "from sklearn.model_selection import train_test_split\n",
    "from sklearn.tree import DecisionTreeRegressor\n",
    "from sklearn.ensemble import BaggingRegressor\n",
    "from sklearn.metrics import mean_squared_error"
   ]
  },
  {
   "cell_type": "code",
   "execution_count": 3,
   "id": "e765530c",
   "metadata": {},
   "outputs": [],
   "source": [
    "# Import dataset\n",
    "students = pd.read_csv('student-mat.csv', sep=\";\")"
   ]
  },
  {
   "cell_type": "code",
   "execution_count": 4,
   "id": "5a8c1cd3",
   "metadata": {},
   "outputs": [],
   "source": [
    "# Drop G1 and G2 because they will not be considered\n",
    "students = students.drop(columns = [\"G1\", \"G2\"])"
   ]
  },
  {
   "cell_type": "code",
   "execution_count": 5,
   "id": "0a4d593e",
   "metadata": {},
   "outputs": [],
   "source": [
    "# Start looking for correlation: factorize categorical data\n",
    "students_factorized = students\n",
    "students_factorized[[\"school\", \"sex\", \"address\", \"famsize\", \"Pstatus\", \n",
    "                     \"Mjob\", \"Fjob\", \"reason\", \"guardian\", \"schoolsup\", \n",
    "                     \"famsup\", \"paid\", \"activities\", \"nursery\",\n",
    "                     \"higher\", \"internet\", \"romantic\"]] = students_factorized[[\"school\", \"sex\", \"address\", \"famsize\",\n",
    "                                                                               \"Pstatus\", \"Mjob\", \"Fjob\", \"reason\",\n",
    "                                                                               \"guardian\", \"schoolsup\", \"famsup\", \"paid\",\n",
    "                                                                               \"activities\", \"nursery\", \"higher\", \"internet\",\n",
    "                                                                               \"romantic\"]].apply(lambda x: pd.factorize(x)[0])"
   ]
  },
  {
   "cell_type": "code",
   "execution_count": 6,
   "id": "b11098bf",
   "metadata": {},
   "outputs": [],
   "source": [
    "# Run correlation on dataset\n",
    "students_correlation = students_factorized.corr()"
   ]
  },
  {
   "cell_type": "code",
   "execution_count": 7,
   "id": "2bc0aeac",
   "metadata": {},
   "outputs": [
    {
     "data": {
      "text/html": [
       "<div>\n",
       "<style scoped>\n",
       "    .dataframe tbody tr th:only-of-type {\n",
       "        vertical-align: middle;\n",
       "    }\n",
       "\n",
       "    .dataframe tbody tr th {\n",
       "        vertical-align: top;\n",
       "    }\n",
       "\n",
       "    .dataframe thead th {\n",
       "        text-align: right;\n",
       "    }\n",
       "</style>\n",
       "<table border=\"1\" class=\"dataframe\">\n",
       "  <thead>\n",
       "    <tr style=\"text-align: right;\">\n",
       "      <th></th>\n",
       "      <th>G3</th>\n",
       "      <th>Medu</th>\n",
       "      <th>Fedu</th>\n",
       "      <th>sex</th>\n",
       "      <th>Mjob</th>\n",
       "      <th>paid</th>\n",
       "      <th>reason</th>\n",
       "      <th>internet</th>\n",
       "      <th>studytime</th>\n",
       "      <th>schoolsup</th>\n",
       "      <th>...</th>\n",
       "      <th>Dalc</th>\n",
       "      <th>Pstatus</th>\n",
       "      <th>health</th>\n",
       "      <th>address</th>\n",
       "      <th>traveltime</th>\n",
       "      <th>romantic</th>\n",
       "      <th>goout</th>\n",
       "      <th>age</th>\n",
       "      <th>higher</th>\n",
       "      <th>failures</th>\n",
       "    </tr>\n",
       "  </thead>\n",
       "  <tbody>\n",
       "    <tr>\n",
       "      <th>G3</th>\n",
       "      <td>1.0</td>\n",
       "      <td>0.217147</td>\n",
       "      <td>0.152457</td>\n",
       "      <td>0.103456</td>\n",
       "      <td>0.102082</td>\n",
       "      <td>0.101996</td>\n",
       "      <td>0.099773</td>\n",
       "      <td>0.098483</td>\n",
       "      <td>0.09782</td>\n",
       "      <td>0.082788</td>\n",
       "      <td>...</td>\n",
       "      <td>-0.05466</td>\n",
       "      <td>-0.058009</td>\n",
       "      <td>-0.061335</td>\n",
       "      <td>-0.105756</td>\n",
       "      <td>-0.117142</td>\n",
       "      <td>-0.12997</td>\n",
       "      <td>-0.132791</td>\n",
       "      <td>-0.161579</td>\n",
       "      <td>-0.182465</td>\n",
       "      <td>-0.360415</td>\n",
       "    </tr>\n",
       "  </tbody>\n",
       "</table>\n",
       "<p>1 rows × 31 columns</p>\n",
       "</div>"
      ],
      "text/plain": [
       "     G3      Medu      Fedu       sex      Mjob      paid    reason  internet  \\\n",
       "G3  1.0  0.217147  0.152457  0.103456  0.102082  0.101996  0.099773  0.098483   \n",
       "\n",
       "    studytime  schoolsup  ...     Dalc   Pstatus    health   address  \\\n",
       "G3    0.09782   0.082788  ... -0.05466 -0.058009 -0.061335 -0.105756   \n",
       "\n",
       "    traveltime  romantic     goout       age    higher  failures  \n",
       "G3   -0.117142  -0.12997 -0.132791 -0.161579 -0.182465 -0.360415  \n",
       "\n",
       "[1 rows x 31 columns]"
      ]
     },
     "execution_count": 7,
     "metadata": {},
     "output_type": "execute_result"
    }
   ],
   "source": [
    "# Get only G3 and order by highest to lowest\n",
    "g3corr = students_correlation.sort_values(by = \"G3\", axis = 1, ascending = False)\n",
    "g3corr.iloc[[30]]"
   ]
  },
  {
   "cell_type": "code",
   "execution_count": 8,
   "id": "2cc81f4d",
   "metadata": {},
   "outputs": [
    {
     "data": {
      "text/html": [
       "<div>\n",
       "<style scoped>\n",
       "    .dataframe tbody tr th:only-of-type {\n",
       "        vertical-align: middle;\n",
       "    }\n",
       "\n",
       "    .dataframe tbody tr th {\n",
       "        vertical-align: top;\n",
       "    }\n",
       "\n",
       "    .dataframe thead th {\n",
       "        text-align: right;\n",
       "    }\n",
       "</style>\n",
       "<table border=\"1\" class=\"dataframe\">\n",
       "  <thead>\n",
       "    <tr style=\"text-align: right;\">\n",
       "      <th></th>\n",
       "      <th>G3</th>\n",
       "      <th>Medu</th>\n",
       "      <th>Fedu</th>\n",
       "      <th>sex</th>\n",
       "      <th>Mjob</th>\n",
       "      <th>paid</th>\n",
       "      <th>reason</th>\n",
       "      <th>internet</th>\n",
       "      <th>studytime</th>\n",
       "      <th>schoolsup</th>\n",
       "      <th>...</th>\n",
       "      <th>Dalc</th>\n",
       "      <th>Pstatus</th>\n",
       "      <th>health</th>\n",
       "      <th>address</th>\n",
       "      <th>traveltime</th>\n",
       "      <th>romantic</th>\n",
       "      <th>goout</th>\n",
       "      <th>age</th>\n",
       "      <th>higher</th>\n",
       "      <th>failures</th>\n",
       "    </tr>\n",
       "  </thead>\n",
       "  <tbody>\n",
       "    <tr>\n",
       "      <th>G3</th>\n",
       "      <td>1.0</td>\n",
       "      <td>0.217147</td>\n",
       "      <td>0.152457</td>\n",
       "      <td>0.103456</td>\n",
       "      <td>0.102082</td>\n",
       "      <td>0.101996</td>\n",
       "      <td>0.099773</td>\n",
       "      <td>0.098483</td>\n",
       "      <td>0.09782</td>\n",
       "      <td>0.082788</td>\n",
       "      <td>...</td>\n",
       "      <td>-0.05466</td>\n",
       "      <td>-0.058009</td>\n",
       "      <td>-0.061335</td>\n",
       "      <td>-0.105756</td>\n",
       "      <td>-0.117142</td>\n",
       "      <td>-0.12997</td>\n",
       "      <td>-0.132791</td>\n",
       "      <td>-0.161579</td>\n",
       "      <td>-0.182465</td>\n",
       "      <td>-0.360415</td>\n",
       "    </tr>\n",
       "  </tbody>\n",
       "</table>\n",
       "<p>1 rows × 31 columns</p>\n",
       "</div>"
      ],
      "text/plain": [
       "     G3      Medu      Fedu       sex      Mjob      paid    reason  internet  \\\n",
       "G3  1.0  0.217147  0.152457  0.103456  0.102082  0.101996  0.099773  0.098483   \n",
       "\n",
       "    studytime  schoolsup  ...     Dalc   Pstatus    health   address  \\\n",
       "G3    0.09782   0.082788  ... -0.05466 -0.058009 -0.061335 -0.105756   \n",
       "\n",
       "    traveltime  romantic     goout       age    higher  failures  \n",
       "G3   -0.117142  -0.12997 -0.132791 -0.161579 -0.182465 -0.360415  \n",
       "\n",
       "[1 rows x 31 columns]"
      ]
     },
     "execution_count": 8,
     "metadata": {},
     "output_type": "execute_result"
    }
   ],
   "source": [
    "# A quick check shows that failures (-0.36), mother's education (0.217), and plans for higher education (-0.18) are strongest\n",
    "g3corr.iloc[[30]]"
   ]
  },
  {
   "cell_type": "code",
   "execution_count": 9,
   "id": "cd23a432",
   "metadata": {},
   "outputs": [],
   "source": [
    "### Decision Tree Regressor model ###"
   ]
  },
  {
   "cell_type": "code",
   "execution_count": 10,
   "id": "7bc9a291",
   "metadata": {},
   "outputs": [],
   "source": [
    "X, y = students.drop(columns = [\"G3\"]), students[[\"G3\"]]"
   ]
  },
  {
   "cell_type": "code",
   "execution_count": 11,
   "id": "20f27ca4",
   "metadata": {},
   "outputs": [],
   "source": [
    "X_train, X_test, y_train, y_test = train_test_split(X, y, test_size=0.1, random_state=42)"
   ]
  },
  {
   "cell_type": "code",
   "execution_count": 12,
   "id": "7df8edee",
   "metadata": {},
   "outputs": [],
   "source": [
    "# pipelines for numeric attributes and categorical attributes\n",
    "num_pipe = Pipeline([(\"imputer\", SimpleImputer(strategy=\"median\")), (\"scalar\", StandardScaler())])\n",
    "cat_pipe = OneHotEncoder(handle_unknown=\"ignore\")"
   ]
  },
  {
   "cell_type": "code",
   "execution_count": 13,
   "id": "561c70ad",
   "metadata": {},
   "outputs": [],
   "source": [
    "### Bagging Regressor Ensemble #### Declare numeric attributes and categorical attributes\n",
    "num_attributes = list(students.drop(columns = [\"school\", \"sex\", \"address\", \"famsize\", \"Pstatus\",\n",
    "                              \"Mjob\", \"Fjob\", \"reason\", \"guardian\", \"schoolsup\",\n",
    "                              \"famsup\", \"paid\", \"activities\", \"nursery\", \"higher\",\n",
    "                              \"internet\", \"romantic\", \"G3\"]))\n",
    "cat_attributes = [\"school\", \"sex\", \"address\", \"famsize\", \"Pstatus\",\n",
    "                  \"Mjob\", \"Fjob\", \"reason\", \"guardian\", \"schoolsup\",\n",
    "                  \"famsup\", \"paid\", \"activities\", \"nursery\", \"higher\",\n",
    "                  \"internet\", \"romantic\"]"
   ]
  },
  {
   "cell_type": "code",
   "execution_count": 14,
   "id": "6dbab354",
   "metadata": {},
   "outputs": [],
   "source": [
    "# Combined pipeline\n",
    "full_pipe = ColumnTransformer(transformers=[\n",
    "                                (\"num\", num_pipe, num_attributes),\n",
    "                                (\"cat\", cat_pipe, cat_attributes)])"
   ]
  },
  {
   "cell_type": "code",
   "execution_count": 15,
   "id": "7f129971",
   "metadata": {},
   "outputs": [],
   "source": [
    "# Set model using the pipeline, runs both num and cat attributes through model\n",
    "tree_reg = Pipeline(steps=[(\"preprocessor\", full_pipe), (\"regressor\", DecisionTreeRegressor(max_depth=5))])"
   ]
  },
  {
   "cell_type": "code",
   "execution_count": 16,
   "id": "24e76275",
   "metadata": {},
   "outputs": [],
   "source": [
    "# Split attributes and target\n",
    "X, y = students.drop(columns = [\"G3\"]), students[[\"G3\"]]"
   ]
  },
  {
   "cell_type": "code",
   "execution_count": 17,
   "id": "20a13b40",
   "metadata": {},
   "outputs": [],
   "source": [
    "# split training and test sets\n",
    "X_train, X_test, y_train, y_test = train_test_split(X, y, test_size=0.1, random_state=42)"
   ]
  },
  {
   "cell_type": "code",
   "execution_count": 18,
   "id": "88970e1b",
   "metadata": {
    "scrolled": true
   },
   "outputs": [
    {
     "data": {
      "text/plain": [
       "Pipeline(steps=[('preprocessor',\n",
       "                 ColumnTransformer(transformers=[('num',\n",
       "                                                  Pipeline(steps=[('imputer',\n",
       "                                                                   SimpleImputer(strategy='median')),\n",
       "                                                                  ('scalar',\n",
       "                                                                   StandardScaler())]),\n",
       "                                                  ['age', 'Medu', 'Fedu',\n",
       "                                                   'traveltime', 'studytime',\n",
       "                                                   'failures', 'famrel',\n",
       "                                                   'freetime', 'goout', 'Dalc',\n",
       "                                                   'Walc', 'health',\n",
       "                                                   'absences']),\n",
       "                                                 ('cat',\n",
       "                                                  OneHotEncoder(handle_unknown='ignore'),\n",
       "                                                  ['school', 'sex', 'address',\n",
       "                                                   'famsize', 'Pstatus', 'Mjob',\n",
       "                                                   'Fjob', 'reason', 'guardian',\n",
       "                                                   'schoolsup', 'famsup',\n",
       "                                                   'paid', 'activities',\n",
       "                                                   'nursery', 'higher',\n",
       "                                                   'internet', 'romantic'])])),\n",
       "                ('regressor', DecisionTreeRegressor(max_depth=5))])"
      ]
     },
     "execution_count": 18,
     "metadata": {},
     "output_type": "execute_result"
    }
   ],
   "source": [
    "# Train model\n",
    "tree_reg.fit(X_train, y_train)"
   ]
  },
  {
   "cell_type": "code",
   "execution_count": 19,
   "id": "fdf08bc9",
   "metadata": {},
   "outputs": [
    {
     "data": {
      "text/plain": [
       "array([12.74074074])"
      ]
     },
     "execution_count": 19,
     "metadata": {},
     "output_type": "execute_result"
    }
   ],
   "source": [
    "# Grab some random student to run a prediction on\n",
    "some_student_1 = X.iloc[[30]]\n",
    "tree_reg.predict(some_student_1)"
   ]
  },
  {
   "cell_type": "code",
   "execution_count": 20,
   "id": "92243f9f",
   "metadata": {},
   "outputs": [
    {
     "data": {
      "text/html": [
       "<div>\n",
       "<style scoped>\n",
       "    .dataframe tbody tr th:only-of-type {\n",
       "        vertical-align: middle;\n",
       "    }\n",
       "\n",
       "    .dataframe tbody tr th {\n",
       "        vertical-align: top;\n",
       "    }\n",
       "\n",
       "    .dataframe thead th {\n",
       "        text-align: right;\n",
       "    }\n",
       "</style>\n",
       "<table border=\"1\" class=\"dataframe\">\n",
       "  <thead>\n",
       "    <tr style=\"text-align: right;\">\n",
       "      <th></th>\n",
       "      <th>school</th>\n",
       "      <th>sex</th>\n",
       "      <th>age</th>\n",
       "      <th>address</th>\n",
       "      <th>famsize</th>\n",
       "      <th>Pstatus</th>\n",
       "      <th>Medu</th>\n",
       "      <th>Fedu</th>\n",
       "      <th>Mjob</th>\n",
       "      <th>Fjob</th>\n",
       "      <th>...</th>\n",
       "      <th>internet</th>\n",
       "      <th>romantic</th>\n",
       "      <th>famrel</th>\n",
       "      <th>freetime</th>\n",
       "      <th>goout</th>\n",
       "      <th>Dalc</th>\n",
       "      <th>Walc</th>\n",
       "      <th>health</th>\n",
       "      <th>absences</th>\n",
       "      <th>G3</th>\n",
       "    </tr>\n",
       "  </thead>\n",
       "  <tbody>\n",
       "    <tr>\n",
       "      <th>30</th>\n",
       "      <td>0</td>\n",
       "      <td>1</td>\n",
       "      <td>15</td>\n",
       "      <td>0</td>\n",
       "      <td>0</td>\n",
       "      <td>1</td>\n",
       "      <td>4</td>\n",
       "      <td>4</td>\n",
       "      <td>1</td>\n",
       "      <td>2</td>\n",
       "      <td>...</td>\n",
       "      <td>1</td>\n",
       "      <td>0</td>\n",
       "      <td>5</td>\n",
       "      <td>4</td>\n",
       "      <td>2</td>\n",
       "      <td>3</td>\n",
       "      <td>4</td>\n",
       "      <td>5</td>\n",
       "      <td>0</td>\n",
       "      <td>12</td>\n",
       "    </tr>\n",
       "  </tbody>\n",
       "</table>\n",
       "<p>1 rows × 31 columns</p>\n",
       "</div>"
      ],
      "text/plain": [
       "    school  sex  age  address  famsize  Pstatus  Medu  Fedu  Mjob  Fjob  ...  \\\n",
       "30       0    1   15        0        0        1     4     4     1     2  ...   \n",
       "\n",
       "    internet  romantic  famrel  freetime  goout  Dalc  Walc  health  absences  \\\n",
       "30         1         0       5         4      2     3     4       5         0   \n",
       "\n",
       "    G3  \n",
       "30  12  \n",
       "\n",
       "[1 rows x 31 columns]"
      ]
     },
     "execution_count": 20,
     "metadata": {},
     "output_type": "execute_result"
    }
   ],
   "source": [
    "# Student is indeed close to 12 for G3\n",
    "students.iloc[[30]]"
   ]
  },
  {
   "cell_type": "code",
   "execution_count": 21,
   "id": "b2fa72f4",
   "metadata": {},
   "outputs": [],
   "source": [
    "# Try it again with another student"
   ]
  },
  {
   "cell_type": "code",
   "execution_count": 22,
   "id": "74779e95",
   "metadata": {},
   "outputs": [
    {
     "data": {
      "text/plain": [
       "array([11.53284672])"
      ]
     },
     "execution_count": 22,
     "metadata": {},
     "output_type": "execute_result"
    }
   ],
   "source": [
    "some_student_1 = X.iloc[[178]]\n",
    "tree_reg.predict(some_student_1)"
   ]
  },
  {
   "cell_type": "code",
   "execution_count": 23,
   "id": "4abfca73",
   "metadata": {},
   "outputs": [
    {
     "data": {
      "text/html": [
       "<div>\n",
       "<style scoped>\n",
       "    .dataframe tbody tr th:only-of-type {\n",
       "        vertical-align: middle;\n",
       "    }\n",
       "\n",
       "    .dataframe tbody tr th {\n",
       "        vertical-align: top;\n",
       "    }\n",
       "\n",
       "    .dataframe thead th {\n",
       "        text-align: right;\n",
       "    }\n",
       "</style>\n",
       "<table border=\"1\" class=\"dataframe\">\n",
       "  <thead>\n",
       "    <tr style=\"text-align: right;\">\n",
       "      <th></th>\n",
       "      <th>school</th>\n",
       "      <th>sex</th>\n",
       "      <th>age</th>\n",
       "      <th>address</th>\n",
       "      <th>famsize</th>\n",
       "      <th>Pstatus</th>\n",
       "      <th>Medu</th>\n",
       "      <th>Fedu</th>\n",
       "      <th>Mjob</th>\n",
       "      <th>Fjob</th>\n",
       "      <th>...</th>\n",
       "      <th>internet</th>\n",
       "      <th>romantic</th>\n",
       "      <th>famrel</th>\n",
       "      <th>freetime</th>\n",
       "      <th>goout</th>\n",
       "      <th>Dalc</th>\n",
       "      <th>Walc</th>\n",
       "      <th>health</th>\n",
       "      <th>absences</th>\n",
       "      <th>G3</th>\n",
       "    </tr>\n",
       "  </thead>\n",
       "  <tbody>\n",
       "    <tr>\n",
       "      <th>178</th>\n",
       "      <td>0</td>\n",
       "      <td>1</td>\n",
       "      <td>16</td>\n",
       "      <td>1</td>\n",
       "      <td>0</td>\n",
       "      <td>1</td>\n",
       "      <td>4</td>\n",
       "      <td>2</td>\n",
       "      <td>4</td>\n",
       "      <td>2</td>\n",
       "      <td>...</td>\n",
       "      <td>1</td>\n",
       "      <td>1</td>\n",
       "      <td>4</td>\n",
       "      <td>3</td>\n",
       "      <td>3</td>\n",
       "      <td>3</td>\n",
       "      <td>4</td>\n",
       "      <td>3</td>\n",
       "      <td>10</td>\n",
       "      <td>9</td>\n",
       "    </tr>\n",
       "  </tbody>\n",
       "</table>\n",
       "<p>1 rows × 31 columns</p>\n",
       "</div>"
      ],
      "text/plain": [
       "     school  sex  age  address  famsize  Pstatus  Medu  Fedu  Mjob  Fjob  ...  \\\n",
       "178       0    1   16        1        0        1     4     2     4     2  ...   \n",
       "\n",
       "     internet  romantic  famrel  freetime  goout  Dalc  Walc  health  \\\n",
       "178         1         1       4         3      3     3     4       3   \n",
       "\n",
       "     absences  G3  \n",
       "178        10   9  \n",
       "\n",
       "[1 rows x 31 columns]"
      ]
     },
     "execution_count": 23,
     "metadata": {},
     "output_type": "execute_result"
    }
   ],
   "source": [
    "# Not quite as accurate, but still close\n",
    "students.iloc[[178]]"
   ]
  },
  {
   "cell_type": "code",
   "execution_count": 24,
   "id": "338b401a",
   "metadata": {},
   "outputs": [
    {
     "data": {
      "text/plain": [
       "array([5.66666667])"
      ]
     },
     "execution_count": 24,
     "metadata": {},
     "output_type": "execute_result"
    }
   ],
   "source": [
    "# Give it one more try\n",
    "some_student_1 = X.iloc[[247]]\n",
    "tree_reg.predict(some_student_1)"
   ]
  },
  {
   "cell_type": "code",
   "execution_count": 25,
   "id": "39760307",
   "metadata": {},
   "outputs": [
    {
     "data": {
      "text/html": [
       "<div>\n",
       "<style scoped>\n",
       "    .dataframe tbody tr th:only-of-type {\n",
       "        vertical-align: middle;\n",
       "    }\n",
       "\n",
       "    .dataframe tbody tr th {\n",
       "        vertical-align: top;\n",
       "    }\n",
       "\n",
       "    .dataframe thead th {\n",
       "        text-align: right;\n",
       "    }\n",
       "</style>\n",
       "<table border=\"1\" class=\"dataframe\">\n",
       "  <thead>\n",
       "    <tr style=\"text-align: right;\">\n",
       "      <th></th>\n",
       "      <th>school</th>\n",
       "      <th>sex</th>\n",
       "      <th>age</th>\n",
       "      <th>address</th>\n",
       "      <th>famsize</th>\n",
       "      <th>Pstatus</th>\n",
       "      <th>Medu</th>\n",
       "      <th>Fedu</th>\n",
       "      <th>Mjob</th>\n",
       "      <th>Fjob</th>\n",
       "      <th>...</th>\n",
       "      <th>internet</th>\n",
       "      <th>romantic</th>\n",
       "      <th>famrel</th>\n",
       "      <th>freetime</th>\n",
       "      <th>goout</th>\n",
       "      <th>Dalc</th>\n",
       "      <th>Walc</th>\n",
       "      <th>health</th>\n",
       "      <th>absences</th>\n",
       "      <th>G3</th>\n",
       "    </tr>\n",
       "  </thead>\n",
       "  <tbody>\n",
       "    <tr>\n",
       "      <th>247</th>\n",
       "      <td>0</td>\n",
       "      <td>1</td>\n",
       "      <td>22</td>\n",
       "      <td>0</td>\n",
       "      <td>0</td>\n",
       "      <td>1</td>\n",
       "      <td>3</td>\n",
       "      <td>1</td>\n",
       "      <td>3</td>\n",
       "      <td>2</td>\n",
       "      <td>...</td>\n",
       "      <td>1</td>\n",
       "      <td>1</td>\n",
       "      <td>5</td>\n",
       "      <td>4</td>\n",
       "      <td>5</td>\n",
       "      <td>5</td>\n",
       "      <td>5</td>\n",
       "      <td>1</td>\n",
       "      <td>16</td>\n",
       "      <td>8</td>\n",
       "    </tr>\n",
       "  </tbody>\n",
       "</table>\n",
       "<p>1 rows × 31 columns</p>\n",
       "</div>"
      ],
      "text/plain": [
       "     school  sex  age  address  famsize  Pstatus  Medu  Fedu  Mjob  Fjob  ...  \\\n",
       "247       0    1   22        0        0        1     3     1     3     2  ...   \n",
       "\n",
       "     internet  romantic  famrel  freetime  goout  Dalc  Walc  health  \\\n",
       "247         1         1       5         4      5     5     5       1   \n",
       "\n",
       "     absences  G3  \n",
       "247        16   8  \n",
       "\n",
       "[1 rows x 31 columns]"
      ]
     },
     "execution_count": 25,
     "metadata": {},
     "output_type": "execute_result"
    }
   ],
   "source": [
    "# Again, not quite as accurate\n",
    "students.iloc[[247]]"
   ]
  },
  {
   "cell_type": "code",
   "execution_count": 26,
   "id": "81a6ffb8",
   "metadata": {},
   "outputs": [],
   "source": [
    "# Get a cross val prediciton on training set for comparision\n",
    "y_train_pred = cross_val_predict(tree_reg, X_train, y_train, cv = 3)"
   ]
  },
  {
   "cell_type": "code",
   "execution_count": 27,
   "id": "3709c67b",
   "metadata": {},
   "outputs": [
    {
     "data": {
      "text/plain": [
       "22.64110463010853"
      ]
     },
     "execution_count": 27,
     "metadata": {},
     "output_type": "execute_result"
    }
   ],
   "source": [
    "# MSE on training data\n",
    "# pretty high error\n",
    "mean_squared_error(y_train, y_train_pred)"
   ]
  },
  {
   "cell_type": "code",
   "execution_count": 28,
   "id": "287749a1",
   "metadata": {},
   "outputs": [],
   "source": [
    "# Make predictions on test set\n",
    "y_pred = tree_reg.predict(X_test)"
   ]
  },
  {
   "cell_type": "code",
   "execution_count": 29,
   "id": "69d35a5b",
   "metadata": {},
   "outputs": [
    {
     "data": {
      "text/plain": [
       "27.83787809491604"
      ]
     },
     "execution_count": 29,
     "metadata": {},
     "output_type": "execute_result"
    }
   ],
   "source": [
    "# MSE on training set\n",
    "# The errors are really high, I am guessing that this is due to low correlation between attributes and G3\n",
    "mean_squared_error(y_test, y_pred)"
   ]
  },
  {
   "cell_type": "code",
   "execution_count": 30,
   "id": "a559ba00",
   "metadata": {},
   "outputs": [],
   "source": [
    "### Bagging Regressor Ensemble ###"
   ]
  },
  {
   "cell_type": "code",
   "execution_count": 36,
   "id": "e472dd0e",
   "metadata": {},
   "outputs": [],
   "source": [
    "# Split attributes and target\n",
    "X, y = students.drop(columns = [\"G3\"]), students[[\"G3\"]]"
   ]
  },
  {
   "cell_type": "code",
   "execution_count": 37,
   "id": "05dc87e9",
   "metadata": {},
   "outputs": [],
   "source": [
    "# split training and test sets\n",
    "X_train, X_test, y_train, y_test = train_test_split(X, y, test_size=0.1, random_state=42)"
   ]
  },
  {
   "cell_type": "code",
   "execution_count": 38,
   "id": "51907c20",
   "metadata": {},
   "outputs": [],
   "source": [
    "# pipelines for numeric attributes and categorical attributes\n",
    "num_pipe = Pipeline([(\"imputer\", SimpleImputer(strategy=\"median\")), (\"scalar\", StandardScaler())])\n",
    "cat_pipe = OneHotEncoder(handle_unknown=\"ignore\")"
   ]
  },
  {
   "cell_type": "code",
   "execution_count": 39,
   "id": "0a5b302c",
   "metadata": {},
   "outputs": [],
   "source": [
    "### Bagging Regressor Ensemble #### Declare numeric attributes and categorical attributes\n",
    "num_attributes = list(students.drop(columns = [\"school\", \"sex\", \"address\", \"famsize\", \"Pstatus\",\n",
    "                              \"Mjob\", \"Fjob\", \"reason\", \"guardian\", \"schoolsup\",\n",
    "                              \"famsup\", \"paid\", \"activities\", \"nursery\", \"higher\",\n",
    "                              \"internet\", \"romantic\", \"G3\"]))\n",
    "cat_attributes = [\"school\", \"sex\", \"address\", \"famsize\", \"Pstatus\",\n",
    "                  \"Mjob\", \"Fjob\", \"reason\", \"guardian\", \"schoolsup\",\n",
    "                  \"famsup\", \"paid\", \"activities\", \"nursery\", \"higher\",\n",
    "                  \"internet\", \"romantic\"]"
   ]
  },
  {
   "cell_type": "code",
   "execution_count": 40,
   "id": "07cb7f50",
   "metadata": {},
   "outputs": [],
   "source": [
    "# Combined pipeline\n",
    "full_pipe = ColumnTransformer(transformers=[\n",
    "                                (\"num\", num_pipe, num_attributes),\n",
    "                                (\"cat\", cat_pipe, cat_attributes)])"
   ]
  },
  {
   "cell_type": "code",
   "execution_count": 41,
   "id": "bb60c3ee",
   "metadata": {},
   "outputs": [],
   "source": [
    "# Set model using the pipeline, runs both num and cat attributes through model\n",
    "bagging_reg = Pipeline(steps=[(\"preprocessor\", full_pipe), (\"regressor\", BaggingRegressor())])"
   ]
  },
  {
   "cell_type": "code",
   "execution_count": null,
   "id": "4aefd784",
   "metadata": {},
   "outputs": [],
   "source": []
  },
  {
   "cell_type": "code",
   "execution_count": 43,
   "id": "b26789ff",
   "metadata": {},
   "outputs": [
    {
     "name": "stderr",
     "output_type": "stream",
     "text": [
      "C:\\Users\\funny\\anaconda3\\lib\\site-packages\\sklearn\\utils\\validation.py:63: DataConversionWarning: A column-vector y was passed when a 1d array was expected. Please change the shape of y to (n_samples, ), for example using ravel().\n",
      "  return f(*args, **kwargs)\n"
     ]
    },
    {
     "data": {
      "text/plain": [
       "Pipeline(steps=[('preprocessor',\n",
       "                 ColumnTransformer(transformers=[('num',\n",
       "                                                  Pipeline(steps=[('imputer',\n",
       "                                                                   SimpleImputer(strategy='median')),\n",
       "                                                                  ('scalar',\n",
       "                                                                   StandardScaler())]),\n",
       "                                                  ['age', 'Medu', 'Fedu',\n",
       "                                                   'traveltime', 'studytime',\n",
       "                                                   'failures', 'famrel',\n",
       "                                                   'freetime', 'goout', 'Dalc',\n",
       "                                                   'Walc', 'health',\n",
       "                                                   'absences']),\n",
       "                                                 ('cat',\n",
       "                                                  OneHotEncoder(handle_unknown='ignore'),\n",
       "                                                  ['school', 'sex', 'address',\n",
       "                                                   'famsize', 'Pstatus', 'Mjob',\n",
       "                                                   'Fjob', 'reason', 'guardian',\n",
       "                                                   'schoolsup', 'famsup',\n",
       "                                                   'paid', 'activities',\n",
       "                                                   'nursery', 'higher',\n",
       "                                                   'internet', 'romantic'])])),\n",
       "                ('regressor', BaggingRegressor())])"
      ]
     },
     "execution_count": 43,
     "metadata": {},
     "output_type": "execute_result"
    }
   ],
   "source": [
    "# Train baggingregressor model\n",
    "bagging_reg.fit(X_train, y_train)"
   ]
  },
  {
   "cell_type": "code",
   "execution_count": 45,
   "id": "5df8429e",
   "metadata": {},
   "outputs": [
    {
     "data": {
      "text/plain": [
       "array([10.8])"
      ]
     },
     "execution_count": 45,
     "metadata": {},
     "output_type": "execute_result"
    }
   ],
   "source": [
    "# Grab some random student to run a prediction on\n",
    "some_student_1 = X.iloc[[30]]\n",
    "bagging_reg.predict(some_student_1)"
   ]
  },
  {
   "cell_type": "code",
   "execution_count": 20,
   "id": "b21cfcff",
   "metadata": {},
   "outputs": [
    {
     "data": {
      "text/html": [
       "<div>\n",
       "<style scoped>\n",
       "    .dataframe tbody tr th:only-of-type {\n",
       "        vertical-align: middle;\n",
       "    }\n",
       "\n",
       "    .dataframe tbody tr th {\n",
       "        vertical-align: top;\n",
       "    }\n",
       "\n",
       "    .dataframe thead th {\n",
       "        text-align: right;\n",
       "    }\n",
       "</style>\n",
       "<table border=\"1\" class=\"dataframe\">\n",
       "  <thead>\n",
       "    <tr style=\"text-align: right;\">\n",
       "      <th></th>\n",
       "      <th>school</th>\n",
       "      <th>sex</th>\n",
       "      <th>age</th>\n",
       "      <th>address</th>\n",
       "      <th>famsize</th>\n",
       "      <th>Pstatus</th>\n",
       "      <th>Medu</th>\n",
       "      <th>Fedu</th>\n",
       "      <th>Mjob</th>\n",
       "      <th>Fjob</th>\n",
       "      <th>...</th>\n",
       "      <th>internet</th>\n",
       "      <th>romantic</th>\n",
       "      <th>famrel</th>\n",
       "      <th>freetime</th>\n",
       "      <th>goout</th>\n",
       "      <th>Dalc</th>\n",
       "      <th>Walc</th>\n",
       "      <th>health</th>\n",
       "      <th>absences</th>\n",
       "      <th>G3</th>\n",
       "    </tr>\n",
       "  </thead>\n",
       "  <tbody>\n",
       "    <tr>\n",
       "      <th>30</th>\n",
       "      <td>0</td>\n",
       "      <td>1</td>\n",
       "      <td>15</td>\n",
       "      <td>0</td>\n",
       "      <td>0</td>\n",
       "      <td>1</td>\n",
       "      <td>4</td>\n",
       "      <td>4</td>\n",
       "      <td>1</td>\n",
       "      <td>2</td>\n",
       "      <td>...</td>\n",
       "      <td>1</td>\n",
       "      <td>0</td>\n",
       "      <td>5</td>\n",
       "      <td>4</td>\n",
       "      <td>2</td>\n",
       "      <td>3</td>\n",
       "      <td>4</td>\n",
       "      <td>5</td>\n",
       "      <td>0</td>\n",
       "      <td>12</td>\n",
       "    </tr>\n",
       "  </tbody>\n",
       "</table>\n",
       "<p>1 rows × 31 columns</p>\n",
       "</div>"
      ],
      "text/plain": [
       "    school  sex  age  address  famsize  Pstatus  Medu  Fedu  Mjob  Fjob  ...  \\\n",
       "30       0    1   15        0        0        1     4     4     1     2  ...   \n",
       "\n",
       "    internet  romantic  famrel  freetime  goout  Dalc  Walc  health  absences  \\\n",
       "30         1         0       5         4      2     3     4       5         0   \n",
       "\n",
       "    G3  \n",
       "30  12  \n",
       "\n",
       "[1 rows x 31 columns]"
      ]
     },
     "execution_count": 20,
     "metadata": {},
     "output_type": "execute_result"
    }
   ],
   "source": [
    "# Not quite as close as the DTR model\n",
    "students.iloc[[30]]"
   ]
  },
  {
   "cell_type": "code",
   "execution_count": 48,
   "id": "d5399b95",
   "metadata": {},
   "outputs": [
    {
     "data": {
      "text/plain": [
       "array([9.])"
      ]
     },
     "execution_count": 48,
     "metadata": {},
     "output_type": "execute_result"
    }
   ],
   "source": [
    "# Try it again with another student\n",
    "some_student_1 = X.iloc[[178]]\n",
    "bagging_reg.predict(some_student_1)"
   ]
  },
  {
   "cell_type": "code",
   "execution_count": 49,
   "id": "942c0a61",
   "metadata": {},
   "outputs": [
    {
     "data": {
      "text/html": [
       "<div>\n",
       "<style scoped>\n",
       "    .dataframe tbody tr th:only-of-type {\n",
       "        vertical-align: middle;\n",
       "    }\n",
       "\n",
       "    .dataframe tbody tr th {\n",
       "        vertical-align: top;\n",
       "    }\n",
       "\n",
       "    .dataframe thead th {\n",
       "        text-align: right;\n",
       "    }\n",
       "</style>\n",
       "<table border=\"1\" class=\"dataframe\">\n",
       "  <thead>\n",
       "    <tr style=\"text-align: right;\">\n",
       "      <th></th>\n",
       "      <th>school</th>\n",
       "      <th>sex</th>\n",
       "      <th>age</th>\n",
       "      <th>address</th>\n",
       "      <th>famsize</th>\n",
       "      <th>Pstatus</th>\n",
       "      <th>Medu</th>\n",
       "      <th>Fedu</th>\n",
       "      <th>Mjob</th>\n",
       "      <th>Fjob</th>\n",
       "      <th>...</th>\n",
       "      <th>internet</th>\n",
       "      <th>romantic</th>\n",
       "      <th>famrel</th>\n",
       "      <th>freetime</th>\n",
       "      <th>goout</th>\n",
       "      <th>Dalc</th>\n",
       "      <th>Walc</th>\n",
       "      <th>health</th>\n",
       "      <th>absences</th>\n",
       "      <th>G3</th>\n",
       "    </tr>\n",
       "  </thead>\n",
       "  <tbody>\n",
       "    <tr>\n",
       "      <th>178</th>\n",
       "      <td>0</td>\n",
       "      <td>1</td>\n",
       "      <td>16</td>\n",
       "      <td>1</td>\n",
       "      <td>0</td>\n",
       "      <td>1</td>\n",
       "      <td>4</td>\n",
       "      <td>2</td>\n",
       "      <td>4</td>\n",
       "      <td>2</td>\n",
       "      <td>...</td>\n",
       "      <td>1</td>\n",
       "      <td>1</td>\n",
       "      <td>4</td>\n",
       "      <td>3</td>\n",
       "      <td>3</td>\n",
       "      <td>3</td>\n",
       "      <td>4</td>\n",
       "      <td>3</td>\n",
       "      <td>10</td>\n",
       "      <td>9</td>\n",
       "    </tr>\n",
       "  </tbody>\n",
       "</table>\n",
       "<p>1 rows × 31 columns</p>\n",
       "</div>"
      ],
      "text/plain": [
       "     school  sex  age  address  famsize  Pstatus  Medu  Fedu  Mjob  Fjob  ...  \\\n",
       "178       0    1   16        1        0        1     4     2     4     2  ...   \n",
       "\n",
       "     internet  romantic  famrel  freetime  goout  Dalc  Walc  health  \\\n",
       "178         1         1       4         3      3     3     4       3   \n",
       "\n",
       "     absences  G3  \n",
       "178        10   9  \n",
       "\n",
       "[1 rows x 31 columns]"
      ]
     },
     "execution_count": 49,
     "metadata": {},
     "output_type": "execute_result"
    }
   ],
   "source": [
    "# Much more accurate\n",
    "students.iloc[[178]]"
   ]
  },
  {
   "cell_type": "code",
   "execution_count": 50,
   "id": "c9532c3c",
   "metadata": {},
   "outputs": [
    {
     "data": {
      "text/plain": [
       "array([8.2])"
      ]
     },
     "execution_count": 50,
     "metadata": {},
     "output_type": "execute_result"
    }
   ],
   "source": [
    "# Give it one more try\n",
    "some_student_1 = X.iloc[[247]]\n",
    "bagging_reg.predict(some_student_1)"
   ]
  },
  {
   "cell_type": "code",
   "execution_count": 51,
   "id": "192bed1f",
   "metadata": {},
   "outputs": [
    {
     "data": {
      "text/html": [
       "<div>\n",
       "<style scoped>\n",
       "    .dataframe tbody tr th:only-of-type {\n",
       "        vertical-align: middle;\n",
       "    }\n",
       "\n",
       "    .dataframe tbody tr th {\n",
       "        vertical-align: top;\n",
       "    }\n",
       "\n",
       "    .dataframe thead th {\n",
       "        text-align: right;\n",
       "    }\n",
       "</style>\n",
       "<table border=\"1\" class=\"dataframe\">\n",
       "  <thead>\n",
       "    <tr style=\"text-align: right;\">\n",
       "      <th></th>\n",
       "      <th>school</th>\n",
       "      <th>sex</th>\n",
       "      <th>age</th>\n",
       "      <th>address</th>\n",
       "      <th>famsize</th>\n",
       "      <th>Pstatus</th>\n",
       "      <th>Medu</th>\n",
       "      <th>Fedu</th>\n",
       "      <th>Mjob</th>\n",
       "      <th>Fjob</th>\n",
       "      <th>...</th>\n",
       "      <th>internet</th>\n",
       "      <th>romantic</th>\n",
       "      <th>famrel</th>\n",
       "      <th>freetime</th>\n",
       "      <th>goout</th>\n",
       "      <th>Dalc</th>\n",
       "      <th>Walc</th>\n",
       "      <th>health</th>\n",
       "      <th>absences</th>\n",
       "      <th>G3</th>\n",
       "    </tr>\n",
       "  </thead>\n",
       "  <tbody>\n",
       "    <tr>\n",
       "      <th>247</th>\n",
       "      <td>0</td>\n",
       "      <td>1</td>\n",
       "      <td>22</td>\n",
       "      <td>0</td>\n",
       "      <td>0</td>\n",
       "      <td>1</td>\n",
       "      <td>3</td>\n",
       "      <td>1</td>\n",
       "      <td>3</td>\n",
       "      <td>2</td>\n",
       "      <td>...</td>\n",
       "      <td>1</td>\n",
       "      <td>1</td>\n",
       "      <td>5</td>\n",
       "      <td>4</td>\n",
       "      <td>5</td>\n",
       "      <td>5</td>\n",
       "      <td>5</td>\n",
       "      <td>1</td>\n",
       "      <td>16</td>\n",
       "      <td>8</td>\n",
       "    </tr>\n",
       "  </tbody>\n",
       "</table>\n",
       "<p>1 rows × 31 columns</p>\n",
       "</div>"
      ],
      "text/plain": [
       "     school  sex  age  address  famsize  Pstatus  Medu  Fedu  Mjob  Fjob  ...  \\\n",
       "247       0    1   22        0        0        1     3     1     3     2  ...   \n",
       "\n",
       "     internet  romantic  famrel  freetime  goout  Dalc  Walc  health  \\\n",
       "247         1         1       5         4      5     5     5       1   \n",
       "\n",
       "     absences  G3  \n",
       "247        16   8  \n",
       "\n",
       "[1 rows x 31 columns]"
      ]
     },
     "execution_count": 51,
     "metadata": {},
     "output_type": "execute_result"
    }
   ],
   "source": [
    "# Again, much more accurate than the DTR model\n",
    "students.iloc[[247]]"
   ]
  },
  {
   "cell_type": "code",
   "execution_count": 52,
   "id": "c8e10662",
   "metadata": {},
   "outputs": [
    {
     "name": "stderr",
     "output_type": "stream",
     "text": [
      "C:\\Users\\funny\\anaconda3\\lib\\site-packages\\sklearn\\utils\\validation.py:63: DataConversionWarning: A column-vector y was passed when a 1d array was expected. Please change the shape of y to (n_samples, ), for example using ravel().\n",
      "  return f(*args, **kwargs)\n",
      "C:\\Users\\funny\\anaconda3\\lib\\site-packages\\sklearn\\utils\\validation.py:63: DataConversionWarning: A column-vector y was passed when a 1d array was expected. Please change the shape of y to (n_samples, ), for example using ravel().\n",
      "  return f(*args, **kwargs)\n",
      "C:\\Users\\funny\\anaconda3\\lib\\site-packages\\sklearn\\utils\\validation.py:63: DataConversionWarning: A column-vector y was passed when a 1d array was expected. Please change the shape of y to (n_samples, ), for example using ravel().\n",
      "  return f(*args, **kwargs)\n"
     ]
    }
   ],
   "source": [
    "# Get a cross val prediciton on training set for comparision\n",
    "y_train_pred = cross_val_predict(bagging_reg, X_train, y_train, cv = 3)"
   ]
  },
  {
   "cell_type": "code",
   "execution_count": 53,
   "id": "6e315c94",
   "metadata": {},
   "outputs": [
    {
     "data": {
      "text/plain": [
       "16.649549295774648"
      ]
     },
     "execution_count": 53,
     "metadata": {},
     "output_type": "execute_result"
    }
   ],
   "source": [
    "# MSE on training data\n",
    "# pretty high error, but lower than the DTR\n",
    "mean_squared_error(y_train, y_train_pred)"
   ]
  },
  {
   "cell_type": "code",
   "execution_count": 54,
   "id": "9fa9ff9d",
   "metadata": {},
   "outputs": [],
   "source": [
    "# Make predictions on test set\n",
    "y_pred = bagging_reg.predict(X_test)"
   ]
  },
  {
   "cell_type": "code",
   "execution_count": 55,
   "id": "b425f333",
   "metadata": {},
   "outputs": [
    {
     "data": {
      "text/plain": [
       "20.095999999999997"
      ]
     },
     "execution_count": 55,
     "metadata": {},
     "output_type": "execute_result"
    }
   ],
   "source": [
    "# MSE on training set\n",
    "# The errors are really high, but still lower than the DTR\n",
    "# I am guessing the lowering is due to the bagging model's ability to deal with higher levels of variance\n",
    "mean_squared_error(y_test, y_pred)"
   ]
  }
 ],
 "metadata": {
  "kernelspec": {
   "display_name": "Python 3 (ipykernel)",
   "language": "python",
   "name": "python3"
  },
  "language_info": {
   "codemirror_mode": {
    "name": "ipython",
    "version": 3
   },
   "file_extension": ".py",
   "mimetype": "text/x-python",
   "name": "python",
   "nbconvert_exporter": "python",
   "pygments_lexer": "ipython3",
   "version": "3.9.7"
  }
 },
 "nbformat": 4,
 "nbformat_minor": 5
}
